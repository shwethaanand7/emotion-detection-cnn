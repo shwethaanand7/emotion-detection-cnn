{
 "cells": [
  {
   "cell_type": "code",
   "execution_count": null,
   "id": "78e4ef04-8964-413a-805f-b8a56e1e7253",
   "metadata": {},
   "outputs": [
    {
     "name": "stdout",
     "output_type": "stream",
     "text": [
      "WARNING:tensorflow:From C:\\Users\\ADMIN\\AppData\\Local\\Temp\\ipykernel_6076\\2833138404.py:5: The name tf.disable_eager_execution is deprecated. Please use tf.compat.v1.disable_eager_execution instead.\n",
      "\n"
     ]
    },
    {
     "name": "stderr",
     "output_type": "stream",
     "text": [
      "C:\\Users\\ADMIN\\AppData\\Local\\Programs\\Python\\Python312\\Lib\\site-packages\\tensorflow\\python\\keras\\engine\\training.py:2455: UserWarning: `Model.state_updates` will be removed in a future version. This property should not be used in TensorFlow 2.0, as `updates` are applied automatically.\n",
      "  warnings.warn('`Model.state_updates` will be removed in a future version. '\n"
     ]
    }
   ],
   "source": [
    "import cv2\n",
    "from tensorflow.python.keras.models import model_from_json\n",
    "import numpy as np\n",
    "import tensorflow as tf\n",
    "tf.compat.v1.disable_eager_execution()  \n",
    "\n",
    "# Load the model architecture from JSON file\n",
    "json_file = open(\"facialemotionmodel.json\", \"r\")\n",
    "model_json = json_file.read()\n",
    "json_file.close()\n",
    "\n",
    "# Create model from JSON\n",
    "model = model_from_json(model_json)\n",
    "\n",
    "# Load model weights from the .h5 file\n",
    "model.load_weights(\"facialemotionmodel.h5\")\n",
    "\n",
    "# Path to Haar cascade XML file\n",
    "haar_file = cv2.data.haarcascades + 'haarcascade_frontalface_default.xml'\n",
    "face_cascade = cv2.CascadeClassifier(haar_file)\n",
    "\n",
    "# Function to extract features from an image\n",
    "def extract_features(image):\n",
    "    feature = np.array(image)\n",
    "    feature = feature.reshape(1, 48, 48, 1)\n",
    "    return feature / 255.0\n",
    "\n",
    "# Access the webcam\n",
    "webcam = cv2.VideoCapture(0)\n",
    "\n",
    "# Labels for emotion classes\n",
    "labels = {0: 'angry', 1: 'disgust', 2: 'fear', 3: 'happy', 4: 'neutral', 5: 'sad', 6: 'surprise'}\n",
    "\n",
    "while True:\n",
    "    # Read frame from webcam\n",
    "    i, im = webcam.read()\n",
    "    \n",
    "    # Convert frame to grayscale\n",
    "    gray = cv2.cvtColor(im, cv2.COLOR_BGR2GRAY)\n",
    "    \n",
    "    # Detect faces in the frame\n",
    "    faces = face_cascade.detectMultiScale(im, 1.3, 5)\n",
    "    \n",
    "    try:\n",
    "        # Iterate through detected faces\n",
    "        for (p, q, r, s) in faces:\n",
    "            # Extract face region\n",
    "            image = gray[q:q+s, p:p+r]\n",
    "            cv2.rectangle(im, (p, q), (p+r, q+s), (255, 0, 0), 2)\n",
    "            \n",
    "            # Resize face image to match model input shape\n",
    "            image = cv2.resize(image, (48, 48))\n",
    "            \n",
    "            # Extract features and preprocess\n",
    "            img = extract_features(image)\n",
    "            \n",
    "            # Make prediction\n",
    "            pred = model.predict(img)\n",
    "            prediction_label = labels[pred.argmax()]\n",
    "            \n",
    "            # Display predicted emotion label\n",
    "            cv2.putText(im, '% s' %(prediction_label), (p-10, q-10), cv2.FONT_HERSHEY_COMPLEX_SMALL, 2, (0, 0, 255))\n",
    "        \n",
    "        # Display output frame\n",
    "        cv2.imshow(\"Output\", im)\n",
    "        \n",
    "        # Check for key press to exit (ESC key)\n",
    "        key = cv2.waitKey(1) \n",
    "        if key == 27:  # ESC key\n",
    "            break\n",
    "    except cv2.error:\n",
    "        pass\n",
    "\n",
    "# Release webcam and close OpenCV windows\n",
    "webcam.release()\n",
    "cv2.destroyAllWindows()\n"
   ]
  }
 ],
 "metadata": {
  "kernelspec": {
   "display_name": "Python 3 (ipykernel)",
   "language": "python",
   "name": "python3"
  },
  "language_info": {
   "codemirror_mode": {
    "name": "ipython",
    "version": 3
   },
   "file_extension": ".py",
   "mimetype": "text/x-python",
   "name": "python",
   "nbconvert_exporter": "python",
   "pygments_lexer": "ipython3",
   "version": "3.12.3"
  }
 },
 "nbformat": 4,
 "nbformat_minor": 5
}
